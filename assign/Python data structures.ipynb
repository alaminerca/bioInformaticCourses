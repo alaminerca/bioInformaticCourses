{
 "cells": [
  {
   "cell_type": "markdown",
   "metadata": {
    "deletable": false,
    "editable": false,
    "nbgrader": {
     "cell_type": "markdown",
     "checksum": "1d4e0de9d6dba5e376c4fe3dc7c072ae",
     "grade": false,
     "grade_id": "cell-b22a305b7ca77eb0",
     "locked": true,
     "schema_version": 3,
     "solution": false,
     "task": false
    }
   },
   "source": [
    "## Python data structures\n",
    "\n",
    "#### Your final project as a proud PhD student!\n",
    "\n",
    "You have done it! After years and years of efforts, you are finally close to get your PhD in molecular biology. Hurray!\n",
    "\n",
    "Your last project gave considerably positive results. You identified a handful of genes, namely IKZF1, MYC, and MAPK1, heavily involved in the differentiation process of human B-cells. Now you want to elegantly represent your findings in a Python script, for further analyzing them. \n"
   ]
  },
  {
   "cell_type": "code",
   "execution_count": 2,
   "metadata": {
    "deletable": false,
    "nbgrader": {
     "cell_type": "code",
     "checksum": "74ecde3fbe51dab9e1dd0452e808f934",
     "grade": false,
     "grade_id": "cell-f6a922e1702ff182",
     "locked": false,
     "schema_version": 3,
     "solution": true,
     "task": false
    }
   },
   "outputs": [
    {
     "name": "stdout",
     "output_type": "stream",
     "text": [
      "['IKZF1', 'MAPK1', 'MYC']\n"
     ]
    }
   ],
   "source": [
    "# exercise: create a list L1 containing the gene names resulted from your investigations. \n",
    "# Sort the list in alphabetical order and print it\n",
    "L1 = [\"IKZF1\", \"MYC\", \"MAPK1\"]\n",
    "L1.sort()\n",
    "# your code here\n",
    "\n",
    "\n",
    "print(L1)"
   ]
  },
  {
   "cell_type": "code",
   "execution_count": 3,
   "metadata": {
    "deletable": false,
    "editable": false,
    "nbgrader": {
     "cell_type": "code",
     "checksum": "588e0ad38c10d5ca435c299e5e82efda",
     "grade": true,
     "grade_id": "cell-e1e8172bdf215c23",
     "locked": true,
     "points": 5,
     "schema_version": 3,
     "solution": false,
     "task": false
    }
   },
   "outputs": [],
   "source": [
    "# tip: this is a simple list containing three strings... you can do it!\n",
    "#(Just remember to sort L1)\n"
   ]
  },
  {
   "cell_type": "markdown",
   "metadata": {
    "deletable": false,
    "editable": false,
    "nbgrader": {
     "cell_type": "markdown",
     "checksum": "f9ebba3fe77597e599d74bbb20bfbd05",
     "grade": false,
     "grade_id": "cell-ded2bb2e0676b470",
     "locked": true,
     "schema_version": 3,
     "solution": false,
     "task": false
    }
   },
   "source": [
    "Your research went even further, and now you know that the expression level (in layman terms, the level of activity) of each gene is 10 for IKZF1 and 5 for both MYC and MAPK1. How can we represent this in Python?"
   ]
  },
  {
   "cell_type": "code",
   "execution_count": 25,
   "metadata": {
    "deletable": false,
    "nbgrader": {
     "cell_type": "code",
     "checksum": "c3ca25b60a7317d591cab1939c5f6683",
     "grade": false,
     "grade_id": "cell-9a70002245491958",
     "locked": false,
     "schema_version": 3,
     "solution": true,
     "task": false
    }
   },
   "outputs": [
    {
     "name": "stdout",
     "output_type": "stream",
     "text": [
      "{'IKZF1': 10, 'MAPK1': 5, 'MYC': 5}\n"
     ]
    }
   ],
   "source": [
    "# exercise: create a dcitionary d1 where the genes names are the keys and the expression levels are the values\n",
    "d1 = {'IKZF1':10, 'MAPK1':5, 'MYC':5}\n",
    "# your code here\n",
    "\n",
    "\n",
    "print(d1)"
   ]
  },
  {
   "cell_type": "code",
   "execution_count": 26,
   "metadata": {
    "deletable": false,
    "editable": false,
    "nbgrader": {
     "cell_type": "code",
     "checksum": "0988e130c1d6a7cdfd9398148a9eb7ca",
     "grade": true,
     "grade_id": "cell-93880f39717acc03",
     "locked": true,
     "points": 5,
     "schema_version": 3,
     "solution": false,
     "task": false
    }
   },
   "outputs": [],
   "source": [
    "# tip: recall how dictionaries are crated: {'KEY1':value1, 'KEY2':value2, ...}\n"
   ]
  },
  {
   "cell_type": "markdown",
   "metadata": {
    "deletable": false,
    "editable": false,
    "nbgrader": {
     "cell_type": "markdown",
     "checksum": "5760594b812e814a9b03310b46ee5fd8",
     "grade": false,
     "grade_id": "cell-27a322776e11f086",
     "locked": true,
     "schema_version": 3,
     "solution": false,
     "task": false
    }
   },
   "source": [
    "One complication: each gene can have diffent names. This is because different instutions created separated nomenclatures for human genes over the years, and now several ways exist to refer to the same gene. For example, IKZF1 is also known as ENSG00000185811 (Ensembl gene ID) and as 10320 (Entrez gene ID)."
   ]
  },
  {
   "cell_type": "code",
   "execution_count": 39,
   "metadata": {
    "deletable": false,
    "nbgrader": {
     "cell_type": "code",
     "checksum": "fb84b270f5c1d55f54f5a5fd37a1dc99",
     "grade": false,
     "grade_id": "cell-231691666952d39e",
     "locked": false,
     "schema_version": 3,
     "solution": true,
     "task": false
    }
   },
   "outputs": [
    {
     "name": "stdout",
     "output_type": "stream",
     "text": [
      "{'expression': 10, 'aliases': ['ENSG00000185811', 10320]}\n"
     ]
    }
   ],
   "source": [
    "# exercise: create the d_ikzf1 dictionary which contain two items: the first is the expression level of IKZF1, \n",
    "# under the key 'expression', and the second is a list of IKZF1 alternative names, under the key 'aliases'.\n",
    "d_ikzf1 = {'expression': 10, \"aliases\": [\"ENSG00000185811\", 10320]}\n",
    "# your code here\n",
    "\n",
    "\n",
    "print(d_ikzf1)"
   ]
  },
  {
   "cell_type": "code",
   "execution_count": 40,
   "metadata": {
    "deletable": false,
    "editable": false,
    "nbgrader": {
     "cell_type": "code",
     "checksum": "e525563d16d090974eeb2bdfb9ded520",
     "grade": true,
     "grade_id": "cell-e8cf5730d509f764",
     "locked": true,
     "points": 5,
     "schema_version": 3,
     "solution": false,
     "task": false
    }
   },
   "outputs": [],
   "source": [
    "# tip: keep in mind that dictionaries can have values of different types, e.g., numeric values, lists, etc.\n"
   ]
  },
  {
   "cell_type": "markdown",
   "metadata": {
    "deletable": false,
    "editable": false,
    "nbgrader": {
     "cell_type": "markdown",
     "checksum": "2e706c076e7bb815dd30ea044df18aae",
     "grade": false,
     "grade_id": "cell-c6eb30d88633cc82",
     "locked": true,
     "schema_version": 3,
     "solution": false,
     "task": false
    }
   },
   "source": [
    "Great! Unfortunately, also the other two genes have aliases. For MYC they are ENSG00000136997 and 4609, while for MAPK1 they are ENSG00000100030 and 5594."
   ]
  },
  {
   "cell_type": "code",
   "execution_count": 41,
   "metadata": {
    "deletable": false,
    "nbgrader": {
     "cell_type": "code",
     "checksum": "cb202347e0161b7038b9aba772dea67e",
     "grade": false,
     "grade_id": "cell-a1d8443ac2bea322",
     "locked": false,
     "schema_version": 3,
     "solution": true,
     "task": false
    }
   },
   "outputs": [
    {
     "name": "stdout",
     "output_type": "stream",
     "text": [
      "{'MYC': 5, 'aliases': ['ENSG00000136997', 4609]}\n",
      "{'MAPK1': 5, 'aliases': ['ENSG00000100030', 5594]}\n"
     ]
    }
   ],
   "source": [
    "# exercise: create the d_myc and d_mapk1 dictionaries, in a similar way as you have done for d_ikzf1\n",
    "\n",
    "# your code here\n",
    "d_myc = {'expression': 5, \"aliases\": [\"ENSG00000136997\", 4609]}\n",
    "d_mapk1 = {'expression': 5,  \"aliases\": [\"ENSG00000100030\", 5594]}\n",
    "\n",
    "\n",
    "print(d_myc)\n",
    "print(d_mapk1)"
   ]
  },
  {
   "cell_type": "code",
   "execution_count": 42,
   "metadata": {
    "deletable": false,
    "editable": false,
    "nbgrader": {
     "cell_type": "code",
     "checksum": "2e9ba39a5ec38b8a4e4a98eeddf92c4f",
     "grade": true,
     "grade_id": "cell-225deb87c5a2bfb0",
     "locked": true,
     "points": 5,
     "schema_version": 3,
     "solution": false,
     "task": false
    }
   },
   "outputs": [],
   "source": [
    "# tip: this exercise is similar to the previous one, but for the other two genes\n"
   ]
  },
  {
   "cell_type": "markdown",
   "metadata": {
    "deletable": false,
    "editable": false,
    "nbgrader": {
     "cell_type": "markdown",
     "checksum": "f0979e2524cc7ee09debf7582e1e7b54",
     "grade": false,
     "grade_id": "cell-8129257f39002ea2",
     "locked": true,
     "schema_version": 3,
     "solution": false,
     "task": false
    }
   },
   "source": [
    "Final step! You now want to have all this information in a single dictionary!"
   ]
  },
  {
   "cell_type": "code",
   "execution_count": 37,
   "metadata": {
    "deletable": false,
    "nbgrader": {
     "cell_type": "code",
     "checksum": "34813ba8c89232c32ec5792ec0910cb9",
     "grade": false,
     "grade_id": "cell-2d632f1a268a9ed8",
     "locked": false,
     "schema_version": 3,
     "solution": true,
     "task": false
    }
   },
   "outputs": [
    {
     "name": "stdout",
     "output_type": "stream",
     "text": [
      "{'IKZF1': {'IKZF1': 10, 'aliases': ['ENSG00000185811', 10320]}, 'MAPK1': {'MAPK1': 5, 'aliases': ['ENSG00000100030', 5594]}, 'MYC': {'MYC': 5, 'aliases': ['ENSG00000136997', 4609]}}\n"
     ]
    }
   ],
   "source": [
    "# exercise: in the dictionary d1, assign the d_ikzf1 object to the key 'IKZF1'. Do the same for the other two genes\n",
    "\n",
    "d1 = {\"IKZF1\": d_ikzf1, \"MAPK1\":d_mapk1, \"MYC\": d_myc }\n",
    "# your code here\n",
    "\n",
    "\n",
    "print(d1)"
   ]
  },
  {
   "cell_type": "code",
   "execution_count": 38,
   "metadata": {
    "deletable": false,
    "editable": false,
    "nbgrader": {
     "cell_type": "code",
     "checksum": "70cebc01aded60f13ee3f2a9f515dc64",
     "grade": true,
     "grade_id": "cell-25900e9b382ad6f7",
     "locked": true,
     "points": 5,
     "schema_version": 3,
     "solution": false,
     "task": false
    }
   },
   "outputs": [],
   "source": [
    "# tip: a dictionary can contain other dictioraries!\n"
   ]
  },
  {
   "cell_type": "markdown",
   "metadata": {
    "deletable": false,
    "editable": false,
    "nbgrader": {
     "cell_type": "markdown",
     "checksum": "2dcca865045d91688057f96f589c5334",
     "grade": false,
     "grade_id": "cell-309cb8645132d7a9",
     "locked": true,
     "schema_version": 3,
     "solution": false,
     "task": false
    }
   },
   "source": [
    "So, now `d1` is a dictionary where each item is another dictionary containing the expression level and the aliases of a specific gene. Yes, molecular biology can be complicated!"
   ]
  },
  {
   "cell_type": "code",
   "execution_count": null,
   "metadata": {},
   "outputs": [],
   "source": []
  }
 ],
 "metadata": {
  "kernelspec": {
   "display_name": "Python 3",
   "language": "python",
   "name": "python3"
  },
  "language_info": {
   "codemirror_mode": {
    "name": "ipython",
    "version": 3
   },
   "file_extension": ".py",
   "mimetype": "text/x-python",
   "name": "python",
   "nbconvert_exporter": "python",
   "pygments_lexer": "ipython3",
   "version": "3.7.6"
  }
 },
 "nbformat": 4,
 "nbformat_minor": 4
}
